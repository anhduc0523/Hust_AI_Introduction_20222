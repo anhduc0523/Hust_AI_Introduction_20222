{
  "cells": [
    {
      "cell_type": "code",
      "execution_count": 1,
      "metadata": {
        "colab": {
          "background_save": true
        },
        "id": "1jfqEQcyFCss"
      },
      "outputs": [],
      "source": [
        "from ipyleaflet import Map, Polyline, Marker, LayerGroup, AntPath, TraitError,Icon"
      ]
    },
    {
      "attachments": {},
      "cell_type": "markdown",
      "metadata": {
        "id": "V71-NER_GzpO"
      },
      "source": [
        "Tạo bản đồ phường Phan Chu Trinh\n"
      ]
    },
    {
      "cell_type": "code",
      "execution_count": 2,
      "metadata": {
        "colab": {
          "background_save": true
        },
        "id": "U-YsrgWbFcpi"
      },
      "outputs": [],
      "source": [
        "map = Map(center=(21.021578, 105.858695),\n",
        "          max_zoom=19,\n",
        "          min_zoom=15,\n",
        "          zoom=17,\n",
        "          scroll_wheel_zoom=True)"
      ]
    },
    {
      "attachments": {},
      "cell_type": "markdown",
      "metadata": {
        "id": "2tVbzR7AHKjS"
      },
      "source": [
        "Tạo các điểm giao, điểm lân cận và vẽ biên cho phường Phan Chu Trinh\n",
        "\n",
        "Phần đầu của mảng points là các điểm ven của phường\n",
        "Phần sau của mảng points là các điểm giao của các đường trong phường\n",
        "\n",
        "edges là tập hợp các đường đi từ điểm X đến các điểm khác\n",
        "\n",
        "hàm map.add_layer là hiển thị vùng ven "
      ]
    },
    {
      "cell_type": "code",
      "execution_count": 3,
      "metadata": {
        "colab": {
          "background_save": true
        },
        "id": "Q4lM1CcMFh-H"
      },
      "outputs": [],
      "source": [
        "points = [[21.022749, 105.857527],[21.023684, 105.857239],[21.024110, 105.857130],[21.024452, 105.857254],[21.024509, 105.857433],\n",
        "[21.024726, 105.858295],[21.024861, 105.858954],[21.025003, 105.859952],[21.023054, 105.860787],\n",
        "  [21.018512, 105.861815],[21.018391, 105.860996],[21.019042, 105.858728],[21.019099, 105.858469],[21.018701, 105.856659],\n",
        "   [21.018356, 105.855020],[21.017868, 105.854060],[21.018075, 105.852852],[21.019156, 105.853176],[21.020551, 105.853709],\n",
        "    [21.022226, 105.854270],[21.022959, 105.854525],[21.023663, 105.854754],[21.023493, 105.855462],[21.023126, 105.856617],\n",
        "    \n",
        "    [21.022763, 105.857536],[21.023617, 105.857787],[21.024261, 105.858286],[21.023268, 105.859426],\n",
        "    [21.022344, 105.859743],[21.022269, 105.859494],[21.022176, 105.859114],[21.022037, 105.859566],\n",
        "    [21.021904, 105.859004],[21.022165, 105.859809],[21.022327, 105.860444],[21.021968, 105.859846],\n",
        "    [21.021915, 105.859621],[21.021733, 105.859917],[21.021869, 105.860435],[21.021555, 105.859948],[21.021379, 105.859214],\n",
        "    [21.020948, 105.860155],[21.021186, 105.861045],[21.020638, 105.860239],[21.021145, 105.858044],[21.021946, 105.857754],\n",
        "    [21.021250, 105.857481],[21.019593, 105.856934],[21.019026, 105.856753],[21.019459, 105.855394],[21.019061, 105.855259],[21.018829, 105.855638],[21.018757, 105.854159],\n",
        "     [21.018323, 105.853975],[21.018977, 105.853674],[21.019312, 105.853846],[21.019994, 105.855584],[21.021644, 105.856123],[21.022040, 105.854930],\n",
        "     [21.022754, 105.855205],[21.022425, 105.856391]]\n",
        "\n",
        "def hash(point):\n",
        "    return point[0]**2 + point[1]**2\n",
        "\n",
        "edges = {\n",
        "    hash(points[0]):[points[1],points[24]],\n",
        "    hash(points[1]):[points[0],points[25],points[2]] ,\n",
        "    hash(points[2]):[points[26],points[1],points[3]] ,\n",
        "    hash(points[3]):[points[2],points[4]] ,\n",
        "    hash(points[4]):[points[26],points[3],points[5]] ,\n",
        "    hash(points[5]):[points[4],points[6],points[26]] ,\n",
        "    hash(points[6]):[points[5],points[7],points[27]] ,\n",
        "    hash(points[7]):[points[8],points[6]] ,\n",
        "    hash(points[8]):[points[9]] ,\n",
        "    hash(points[9]):[points[10]] ,\n",
        "    hash(points[10]):[points[9],points[11]] ,\n",
        "    hash(points[11]):[points[44],points[47],points[10],points[12]] ,\n",
        "    hash(points[12]):[points[47],points[11],points[13]] ,\n",
        "    hash(points[13]):[points[48],points[12],points[14]] ,\n",
        "    hash(points[14]):[points[50],points[52],points[13],points[15]] ,\n",
        "    hash(points[15]):[points[16],points[14]] ,\n",
        "    hash(points[16]):[points[15]] ,\n",
        "    hash(points[17]):[points[54],points[16]] ,\n",
        "    hash(points[18]):[points[56],points[17]] ,\n",
        "    hash(points[19]):[points[58],points[18]] ,\n",
        "    hash(points[20]):[points[59],points[19]] ,\n",
        "    hash(points[21]):[points[20]] ,\n",
        "    hash(points[22]):[points[59]] ,\n",
        "    hash(points[23]):[points[60]] ,\n",
        "    hash(points[24]):[points[0],points[27],points[45]] ,\n",
        "    hash(points[25]):[points[1]] ,\n",
        "    hash(points[26]):[points[2],points[4],points[5]] ,\n",
        "    hash(points[27]):[points[6],points[28],points[24]] ,\n",
        "    hash(points[28]):[points[27],points[29],points[33]] ,\n",
        "    hash(points[29]):[points[28],points[30],points[31]] ,\n",
        "    hash(points[30]):[points[29]] ,\n",
        "    hash(points[31]):[points[29],points[32]] ,\n",
        "    hash(points[32]):[points[31]] ,\n",
        "    hash(points[33]):[points[28],points[34],points[35]] ,\n",
        "    hash(points[34]):[points[33]] ,\n",
        "    hash(points[35]):[points[33],points[36],points[37]] ,\n",
        "    hash(points[36]):[points[35]] ,\n",
        "    hash(points[37]):[points[35],points[38],points[39]] ,\n",
        "    hash(points[38]):[points[37]] ,\n",
        "    hash(points[39]):[points[37],points[40],points[41]] ,\n",
        "    hash(points[40]):[points[39]] ,\n",
        "    hash(points[41]):[points[39],points[42],points[43]] ,\n",
        "    hash(points[42]):[points[41]] ,\n",
        "    hash(points[43]):[points[41]] ,\n",
        "    hash(points[44]):[points[11],points[45],points[46]] ,\n",
        "    hash(points[45]):[points[44],points[46],points[24]] ,\n",
        "    hash(points[46]):[points[44],points[45],points[47],points[57]] ,\n",
        "    hash(points[47]):[points[11],points[46],points[48],points[12]] ,\n",
        "    hash(points[48]):[points[13],points[47],points[49]] ,\n",
        "    hash(points[49]):[points[48],points[50],points[56]] ,\n",
        "    hash(points[50]):[points[49],points[14],points[51]] ,\n",
        "    hash(points[51]):[points[50]] ,\n",
        "    hash(points[52]):[points[14],points[53],points[54]] ,\n",
        "    hash(points[53]):[points[52]] ,\n",
        "    hash(points[54]):[points[52],points[55],points[17]] ,\n",
        "    hash(points[55]):[points[54]] ,\n",
        "    hash(points[56]):[points[49],points[18],points[57]] ,\n",
        "    hash(points[57]):[points[56],points[58],points[46],points[60]] ,\n",
        "    hash(points[58]):[points[57],points[19],points[59]] ,\n",
        "    hash(points[59]):[points[58],points[60],points[20],points[22]] ,\n",
        "    hash(points[60]):[points[59],points[23],points[57]] \n",
        "}\n",
        "\n",
        "map.add_layer(Polyline(\n",
        "    locations=[points[0:23] + [points[0]]],\n",
        "    dash_array=\"4\",\n",
        "    color=\"red\",\n",
        "    weight=2,\n",
        "    fill=False,\n",
        "))"
      ]
    },
    {
      "attachments": {},
      "cell_type": "markdown",
      "metadata": {
        "id": "gvbkUfzCsmYO"
      },
      "source": [
        "Chương trình tìm đường đi trên bản đồ, sử dụng thuật toán tìm đường BFS"
      ]
    },
    {
      "cell_type": "code",
      "execution_count": 4,
      "metadata": {
        "colab": {
          "background_save": true
        },
        "id": "Fa8ojz-CPos1"
      },
      "outputs": [],
      "source": [
        "from collections import deque\n",
        "\n",
        "def dis(point1, point2):\n",
        "    return (point1[0] - point2[0])**2 + (point1[1] - point2[1])**2\n",
        "\n",
        "def nearest_point(points, target):\n",
        "    return min(points, key=lambda point: dis(point, target))\n",
        "\n",
        "def path(start_point, end_point):\n",
        "    # Tìm điểm gần nhất với điểm xuất phát\n",
        "    start = nearest_point(points, start_point)\n",
        "    # Tìm điểm gần nhất với điểm đích\n",
        "    end = nearest_point(points, end_point)\n",
        "\n",
        "    # Khởi tạo hàng đợi\n",
        "    queue = deque()\n",
        "    # Thêm điểm xuất phát vào hàng đợi\n",
        "    queue.append((start, [start]))\n",
        "\n",
        "    while queue:\n",
        "        current, path = queue.popleft()\n",
        "        if current == end:\n",
        "            # Trả về đường đi nếu tìm thấy\n",
        "            return [start_point] + path + [end_point]\n",
        "        \n",
        "        # Tìm điểm có cạnh với điểm hiện tại mà chưa được thăm\n",
        "        edges_not_visited = [\n",
        "            adjacent for adjacent in edges[hash(current)] if adjacent not in path]\n",
        "        \n",
        "        for point in edges_not_visited:\n",
        "            new_path = path + [point]\n",
        "            queue.append((point, new_path))\n",
        "    \n",
        "    # Không tìm thấy đường đi\n",
        "    return None"
      ]
    },
    {
      "attachments": {},
      "cell_type": "markdown",
      "metadata": {
        "id": "8VhxwkIAsq0l"
      },
      "source": [
        "\n",
        "\n",
        "Khời tạo các biến của chương trình\n",
        "\n",
        "start_maker là điểm xuất phát\n",
        "end_maker là điểm kết thúc"
      ]
    },
    {
      "cell_type": "code",
      "execution_count": 5,
      "metadata": {
        "colab": {
          "background_save": true
        },
        "id": "sokdxLP6FOu4"
      },
      "outputs": [],
      "source": [
        "path_wrapper = LayerGroup()\n",
        "map.add_layer(path_wrapper)\n",
        "\n",
        "marker_wrapper = LayerGroup()\n",
        "map.add_layer(marker_wrapper)\n",
        "\n",
        "red_icon = Icon(icon_url='https://cdn.rawgit.com/pointhi/leaflet-color-markers/master/img/marker-icon-2x-red.png',\n",
        "                icon_size=[25, 41], icon_anchor=[12, 41])\n",
        "green_icon = Icon(icon_url='https://cdn.rawgit.com/pointhi/leaflet-color-markers/master/img/marker-icon-2x-green.png', \n",
        "                  icon_size=[25, 41], icon_anchor=[12, 41])\n",
        "start_marker = Marker(location=points[0],\n",
        "                      draggable=True, title=\"A\", icon = red_icon)\n",
        "end_marker = Marker(location=points[13],\n",
        "                    draggable=True, title=\"B\", icon = green_icon)\n",
        "marker_wrapper.add_layer(start_marker)\n",
        "marker_wrapper.add_layer(end_marker)"
      ]
    },
    {
      "cell_type": "code",
      "execution_count": 6,
      "metadata": {
        "colab": {
          "background_save": true
        },
        "id": "OpW3Na-VFSca"
      },
      "outputs": [],
      "source": [
        "def draw_path(start_location, end_location):\n",
        "    # Xóa đường đi đang hiện\n",
        "    path_wrapper.clear()\n",
        "    try:\n",
        "        # Tạo đường dẫn mới dựa trên vị trí bắt đầu và kết thúc\n",
        "        path_wrapper.add_layer(AntPath(locations=path(\n",
        "            start_location, end_location), fill=False))\n",
        "    except TraitError:\n",
        "        print(\"No route found!\")\n",
        "\n",
        "\n",
        "def handle_move_start_marker(**kwargs):\n",
        "    # Vẽ lại lớp đường dẫn bất cứ khi nào chúng ta di chuyển điểm đánh dấu bắt đầu\n",
        "    draw_path(kwargs[\"location\"], end_marker.location)\n",
        "\n",
        "\n",
        "def handle_move_end_marker(**kwargs):\n",
        "    # Vẽ lại lớp đường dẫn bất cứ khi nào chúng ta di chuyển điểm đánh dấu kết thúc\n",
        "    draw_path(start_marker.location, kwargs[\"location\"])\n",
        "\n",
        "\n",
        "def handle_onclick_marker(**kwargs):\n",
        "    for layer in marker_wrapper.layers:\n",
        "        if layer.location == kwargs['coordinates']:\n",
        "            if layer.title == \"A\":\n",
        "                marker_wrapper.clear()\n",
        "            else:\n",
        "                marker_wrapper.remove(layer)\n",
        "    path_wrapper.clear()\n",
        "\n",
        "\n",
        "def handle_map_interaction(**kwargs):\n",
        "    if kwargs.get('type') == 'click':\n",
        "        location = kwargs.get('coordinates')\n",
        "        if len(marker_wrapper.layers) == 0:\n",
        "            global start_marker\n",
        "            start_marker = Marker(location=location,\n",
        "                                  draggable=True, title=\"A\")\n",
        "            start_marker.on_move(handle_move_start_marker)\n",
        "            start_marker.on_click(handle_onclick_marker)\n",
        "            marker_wrapper.add_layer(start_marker)\n",
        "        elif len(marker_wrapper.layers) == 1:\n",
        "            end_marker = Marker(location=location,\n",
        "                                draggable=True, title=\"B\")\n",
        "            end_marker.on_move(handle_move_end_marker)\n",
        "            end_marker.on_click(handle_onclick_marker)\n",
        "            marker_wrapper.add_layer(end_marker)\n",
        "            draw_path(start_marker.location, end_marker.location)"
      ]
    },
    {
      "cell_type": "code",
      "execution_count": 7,
      "metadata": {
        "colab": {
          "background_save": true,
          "referenced_widgets": [
            "e2b1048559c641d88c47a9705c0e4847"
          ]
        },
        "id": "bT3xUv8qFWzB",
        "outputId": "3044d512-7dc1-475e-e110-68b0be0d2af5"
      },
      "outputs": [
        {
          "data": {
            "application/vnd.jupyter.widget-view+json": {
              "model_id": "f7626728135b44dd9bc15e3201068bbb",
              "version_major": 2,
              "version_minor": 0
            },
            "text/plain": [
              "Map(center=[21.021578, 105.858695], controls=(ZoomControl(options=['position', 'zoom_in_text', 'zoom_in_title'…"
            ]
          },
          "metadata": {},
          "output_type": "display_data"
        }
      ],
      "source": [
        "start_marker.on_move(handle_move_start_marker)\n",
        "start_marker.on_click(handle_onclick_marker)\n",
        "end_marker.on_move(handle_move_end_marker)\n",
        "end_marker.on_click(handle_onclick_marker)\n",
        "map.on_interaction(handle_map_interaction)\n",
        "\n",
        "# Vẽ đường dẫn ban đầu giữa các điểm đánh dấu bắt đầu và kết thúc\n",
        "draw_path(start_marker.location, end_marker.location)\n",
        "\n",
        "# Hiển thị bản đồ\n",
        "display(map)"
      ]
    }
  ],
  "metadata": {
    "colab": {
      "provenance": []
    },
    "kernelspec": {
      "display_name": "Python 3",
      "name": "python3"
    },
    "language_info": {
      "codemirror_mode": {
        "name": "ipython",
        "version": 3
      },
      "file_extension": ".py",
      "mimetype": "text/x-python",
      "name": "python",
      "nbconvert_exporter": "python",
      "pygments_lexer": "ipython3",
      "version": "3.11.3"
    }
  },
  "nbformat": 4,
  "nbformat_minor": 0
}
